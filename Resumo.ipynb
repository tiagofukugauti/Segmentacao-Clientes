{
 "cells": [
  {
   "cell_type": "code",
   "execution_count": null,
   "metadata": {},
   "outputs": [],
   "source": [
    "# Importando os pacotes \n",
    "import numpy as np\n",
    "import pandas as pd\n",
    "import scipy.stats\n",
    "import sklearn\n",
    "from sklearn.cluster import KMeans\n",
    "from sklearn import metrics\n",
    "from sklearn.decomposition import PCA\n",
    "from sklearn.metrics import homogeneity_completeness_v_measure\n",
    "from sklearn.preprocessing import MinMaxScaler"
   ]
  },
  {
   "cell_type": "code",
   "execution_count": null,
   "metadata": {},
   "outputs": [],
   "source": [
    "# Carregando os dados\n",
    "df = pd.read_csv('dataset.csv', sep = ',', encoding = 'utf-8')"
   ]
  },
  {
   "cell_type": "code",
   "execution_count": null,
   "metadata": {},
   "outputs": [],
   "source": [
    "# Renomeando as colunas\n",
    "colunas = ['Id', 'Sexo', 'Estado_Civil', 'Idade', 'Educacao', 'Renda', 'Ocupacao', 'Tamanho_Cidade']\n",
    "df.columns = colunas"
   ]
  },
  {
   "cell_type": "code",
   "execution_count": null,
   "metadata": {},
   "outputs": [],
   "source": [
    "# Convertendo as variáveis Id, Sexo, Estado_Civil, Educacao, Ocupacacao e Tamanho_Cidade para categorias\n",
    "df['Id'] = pd.Categorical(df['Id'])\n",
    "df['Sexo'] = pd.Categorical(df['Sexo'])\n",
    "df['Estado_Civil'] = pd.Categorical(df['Estado_Civil'])\n",
    "df['Educacao'] = pd.Categorical(df['Educacao'])\n",
    "df['Ocupacao'] = pd.Categorical(df['Ocupacao'])\n",
    "df['Tamanho_Cidade'] = pd.Categorical(df['Tamanho_Cidade'])"
   ]
  },
  {
   "cell_type": "code",
   "execution_count": null,
   "metadata": {},
   "outputs": [],
   "source": [
    "# Criando uma cópia do dataframne\n",
    "df1 = df.copy()"
   ]
  },
  {
   "cell_type": "code",
   "execution_count": null,
   "metadata": {},
   "outputs": [],
   "source": [
    "# Colunas numéricas (quantitativas) e categóricas \n",
    "colunas_numericas = ['Idade', 'Renda']\n",
    "colunas_categoricas = ['Id', 'Sexo', 'Estado_Civil', 'Educacao', 'Ocupacao', 'Tamanho_Cidade']"
   ]
  },
  {
   "cell_type": "code",
   "execution_count": null,
   "metadata": {},
   "outputs": [],
   "source": [
    "# Dataframes com os tipos diferentes de variáveis\n",
    "df_num = df1[colunas_numericas]\n",
    "df_cat = df1[colunas_categoricas]"
   ]
  },
  {
   "cell_type": "code",
   "execution_count": null,
   "metadata": {},
   "outputs": [],
   "source": [
    "# Sumário estatístico das variáveis numéricas\n",
    "sumario_num = pd.DataFrame(index = df_num.columns)\n",
    "sumario_num['Não Nulos'] = df_num.count().values\n",
    "sumario_num['Valores Únicos'] = df_num.nunique().values\n",
    "sumario_num['Média'] = df_num.mean()\n",
    "sumario_num['DesvPad'] = df_num.std()\n",
    "sumario_num['Min'] = df_num.min()\n",
    "sumario_num['Max'] = df_num.max()\n",
    "\n",
    "sumario_num= sumario_num.astype(int)"
   ]
  },
  {
   "cell_type": "code",
   "execution_count": null,
   "metadata": {},
   "outputs": [],
   "source": [
    "# Sumário estatístico das variáveis categóricas\n",
    "sumario_cat = pd.DataFrame(index = df_cat.columns)\n",
    "sumario_cat['Não Nulos'] = df_cat.count().values\n",
    "sumario_cat['% Populado'] = round(sumario_cat['Não Nulos'] / df_cat.shape[0]*100,2)\n",
    "sumario_cat['Valores Únicos'] = df_cat.nunique().values\n",
    "\n",
    "# Adiciona mais uma coluna com valores mais comuns\n",
    "temp = []\n",
    "for coluna in colunas_categoricas:\n",
    "    temp.append(df_cat[coluna].value_counts().idxmax())\n",
    "sumario_cat['Valores Mais Comuns'] = temp\n",
    "\n",
    "sumario_cat= sumario_cat.astype(int)"
   ]
  },
  {
   "cell_type": "code",
   "execution_count": null,
   "metadata": {},
   "outputs": [],
   "source": [
    "# Aplicando redução de dimensionalidade\n",
    "pca = PCA(n_components = 2).fit_transform(df1)"
   ]
  },
  {
   "cell_type": "code",
   "execution_count": null,
   "metadata": {},
   "outputs": [],
   "source": [
    "# Determinando um range de K\n",
    "k_range = range(1,10)"
   ]
  },
  {
   "cell_type": "code",
   "execution_count": null,
   "metadata": {},
   "outputs": [],
   "source": [
    "# Aplicando o modelo K-Means para cada valor de K (esta célula pode levar bastante tempo para ser executada)\n",
    "k_means_var = [KMeans(n_clusters = k).fit(pca) for k in k_range]"
   ]
  },
  {
   "cell_type": "code",
   "execution_count": null,
   "metadata": {},
   "outputs": [],
   "source": [
    "# Ajustando o centróide do cluster para cada modelo\n",
    "centroids = [X.cluster_centers_ for X in k_means_var]"
   ]
  },
  {
   "cell_type": "code",
   "execution_count": null,
   "metadata": {},
   "outputs": [],
   "source": [
    "# Calculando a distância euclidiana de cada ponto de dado para o centróide\n",
    "from scipy.spatial.distance import cdist, pdist\n",
    "k_euclid = [cdist(pca, cent, 'euclidean') for cent in centroids]\n",
    "dist = [np.min(ke, axis = 1) for ke in k_euclid]"
   ]
  },
  {
   "cell_type": "code",
   "execution_count": null,
   "metadata": {},
   "outputs": [],
   "source": [
    "# Soma dos quadrados das distâncias dentro do cluster\n",
    "soma_quadrados_intra_cluster = [sum(d**2) for d in dist]"
   ]
  },
  {
   "cell_type": "code",
   "execution_count": null,
   "metadata": {},
   "outputs": [],
   "source": [
    "# Soma total dos quadrados\n",
    "soma_total = sum(pdist(pca)**2)/pca.shape[0]"
   ]
  },
  {
   "cell_type": "code",
   "execution_count": null,
   "metadata": {},
   "outputs": [],
   "source": [
    "# Soma dos quadrados entre clusters\n",
    "soma_quadrados_inter_cluster = soma_total - soma_quadrados_intra_cluster"
   ]
  },
  {
   "cell_type": "code",
   "execution_count": null,
   "metadata": {},
   "outputs": [],
   "source": [
    "# Criação do modelo\n",
    "modelo_v1 = KMeans(n_clusters = 4, \n",
    "                     init = 'k-means++', \n",
    "                     n_init = 10, \n",
    "                     max_iter = 300, \n",
    "                     tol = 0.0001,   \n",
    "                     algorithm = 'elkan')"
   ]
  },
  {
   "cell_type": "code",
   "execution_count": null,
   "metadata": {},
   "outputs": [],
   "source": [
    "# Treinamento do modelo\n",
    "modelo_v1.fit(pca)"
   ]
  },
  {
   "cell_type": "code",
   "execution_count": null,
   "metadata": {},
   "outputs": [],
   "source": [
    "# Extração dos labels\n",
    "labels1 = modelo_v1.labels_"
   ]
  },
  {
   "cell_type": "code",
   "execution_count": null,
   "metadata": {},
   "outputs": [],
   "source": [
    "previsoes = modelo_v1.fit_predict(pca)"
   ]
  },
  {
   "cell_type": "code",
   "execution_count": null,
   "metadata": {},
   "outputs": [],
   "source": [
    "# Converte o array para dataframe\n",
    "df_labels1 = pd.DataFrame(labels1)"
   ]
  },
  {
   "cell_type": "code",
   "execution_count": null,
   "metadata": {},
   "outputs": [],
   "source": [
    "# Vamos fazer o merge de pca e os labels (clusters) encontrados pelo modelo\n",
    "df_final1 = df1.merge(df_labels1, left_index = True, right_index = True)\n",
    "df_final1.rename(columns = {0:\"Cluster\"}, inplace = True)"
   ]
  },
  {
   "cell_type": "code",
   "execution_count": null,
   "metadata": {},
   "outputs": [],
   "source": [
    "cluster1 = df_final1['Cluster'].value_counts().rename_axis('Cluster').reset_index(name = 'Total')\n",
    "cluster1"
   ]
  },
  {
   "cell_type": "code",
   "execution_count": null,
   "metadata": {},
   "outputs": [],
   "source": [
    "df_final2 = df_final1.copy()\n",
    "cols3 = df_final2.columns.tolist()\n",
    "cols3 = cols3[-1:] + cols3[:-1]\n",
    "df_final2 = df_final2[cols3]\n",
    "df_final2.head(5)"
   ]
  },
  {
   "cell_type": "code",
   "execution_count": null,
   "metadata": {},
   "outputs": [],
   "source": [
    "resumo_cluster = df_final1.groupby('Cluster')['Renda'].agg([('Clientes', 'count'),('Media_Renda', 'mean'), ('DesvPad', 'std'), \n",
    "('Mínimo', 'min'), \n",
    "('Máximo', 'max')]) \n",
    "resumo_cluster= resumo_cluster.astype(int)\n",
    "resumo_cluster['Cluster']= [0, 1, 2, 3]\n",
    "cols4 = resumo_cluster.columns.tolist()\n",
    "cols4 = cols4[-1:] + cols4[:-1]\n",
    "resumo_cluster = resumo_cluster[cols4]"
   ]
  },
  {
   "cell_type": "code",
   "execution_count": null,
   "metadata": {},
   "outputs": [],
   "source": [
    "resumo_cluster"
   ]
  },
  {
   "cell_type": "code",
   "execution_count": null,
   "metadata": {},
   "outputs": [],
   "source": [
    "# Calcula a quantidade de clientes de cada genero por cluster\n",
    "sexo_cluster = df_final2.groupby('Cluster')['Sexo'].value_counts(sort=False)\n",
    "sexo_cluster"
   ]
  },
  {
   "cell_type": "code",
   "execution_count": null,
   "metadata": {},
   "outputs": [],
   "source": [
    "contagem_sexo= sexo_cluster.values\n",
    "contagem_sexo"
   ]
  },
  {
   "cell_type": "code",
   "execution_count": null,
   "metadata": {},
   "outputs": [],
   "source": [
    "colunas_sexo = ['Cluster', 'Masculino', 'Feminino']\n",
    "cluster_sexo = [0, 1, 2, 3]\n",
    "df_sexo = pd.DataFrame(columns= colunas_sexo)\n",
    "df_sexo['Cluster'] = cluster_sexo"
   ]
  },
  {
   "cell_type": "code",
   "execution_count": null,
   "metadata": {},
   "outputs": [],
   "source": [
    "df_sexo.iloc[[0],1] = contagem_sexo[0]\n",
    "df_sexo.iloc[[0],2] = contagem_sexo[1]\n",
    "df_sexo.iloc[[1],1] = contagem_sexo[2]\n",
    "df_sexo.iloc[[1],2] = contagem_sexo[3]\n",
    "df_sexo.iloc[[2],1] = contagem_sexo[4]\n",
    "df_sexo.iloc[[2],2] = contagem_sexo[5]\n",
    "df_sexo.iloc[[3],1] = contagem_sexo[6]\n",
    "df_sexo.iloc[[3],2] = contagem_sexo[7]\n",
    "df_sexo"
   ]
  },
  {
   "cell_type": "code",
   "execution_count": null,
   "metadata": {},
   "outputs": [],
   "source": [
    "# Calcula a quantidade de clientes de cada estado civil por cluster\n",
    "civil_cluster = df_final2.groupby('Cluster')['Estado_Civil'].value_counts(sort=False)\n",
    "civil_cluster"
   ]
  },
  {
   "cell_type": "code",
   "execution_count": null,
   "metadata": {},
   "outputs": [],
   "source": [
    "contagem_civil= civil_cluster.values\n",
    "contagem_civil"
   ]
  },
  {
   "cell_type": "code",
   "execution_count": null,
   "metadata": {},
   "outputs": [],
   "source": [
    "colunas_civil = ['Cluster', 'Solteiro', 'Nao_Solteiro']\n",
    "cluster_civil = [0, 1, 2, 3]\n",
    "df_civil = pd.DataFrame(columns= colunas_civil)\n",
    "df_civil['Cluster'] = cluster_civil"
   ]
  },
  {
   "cell_type": "code",
   "execution_count": null,
   "metadata": {},
   "outputs": [],
   "source": [
    "df_civil.iloc[[0],1] = contagem_civil[0]\n",
    "df_civil.iloc[[0],2] = contagem_civil[1]\n",
    "df_civil.iloc[[1],1] = contagem_civil[2]\n",
    "df_civil.iloc[[1],2] = contagem_civil[3]\n",
    "df_civil.iloc[[2],1] = contagem_civil[4]\n",
    "df_civil.iloc[[2],2] = contagem_civil[5]\n",
    "df_civil.iloc[[3],1] = contagem_civil[6]\n",
    "df_civil.iloc[[3],2] = contagem_civil[7]\n",
    "df_civil"
   ]
  },
  {
   "cell_type": "code",
   "execution_count": null,
   "metadata": {},
   "outputs": [],
   "source": [
    "# Calcula a quantidade de clientes de cada nível de formação por cluster\n",
    "formacao_cluster = df_final2.groupby('Cluster')['Educacao'].value_counts(sort=False)\n",
    "formacao_cluster"
   ]
  },
  {
   "cell_type": "code",
   "execution_count": null,
   "metadata": {},
   "outputs": [],
   "source": [
    "contagem_formacao= formacao_cluster.values\n",
    "contagem_formacao"
   ]
  },
  {
   "cell_type": "code",
   "execution_count": null,
   "metadata": {},
   "outputs": [],
   "source": [
    "colunas_formacao = ['Cluster', 'Outro', 'Ensino_Medio', 'Universitario', 'Graduado']\n",
    "cluster_formacao = [0, 1, 2, 3]\n",
    "df_formacao = pd.DataFrame(columns= colunas_formacao)\n",
    "df_formacao['Cluster'] = cluster_formacao"
   ]
  },
  {
   "cell_type": "code",
   "execution_count": null,
   "metadata": {},
   "outputs": [],
   "source": [
    "df_formacao.iloc[[0],1] = contagem_formacao[0]\n",
    "df_formacao.iloc[[0],2] = contagem_formacao[1]\n",
    "df_formacao.iloc[[0],3] = contagem_formacao[2]\n",
    "df_formacao.iloc[[0],4] = contagem_formacao[3]\n",
    "df_formacao.iloc[[1],1] = contagem_formacao[4]\n",
    "df_formacao.iloc[[1],2] = contagem_formacao[5]\n",
    "df_formacao.iloc[[1],3] = contagem_formacao[6]\n",
    "df_formacao.iloc[[1],4] = contagem_formacao[7]\n",
    "df_formacao.iloc[[2],1] = contagem_formacao[8]\n",
    "df_formacao.iloc[[2],2] = contagem_formacao[9]\n",
    "df_formacao.iloc[[2],3] = contagem_formacao[10]\n",
    "df_formacao.iloc[[2],4] = contagem_formacao[11]\n",
    "df_formacao.iloc[[3],1] = contagem_formacao[12]\n",
    "df_formacao.iloc[[3],2] = contagem_formacao[13]\n",
    "df_formacao.iloc[[3],3] = contagem_formacao[14]\n",
    "df_formacao.iloc[[3],4] = contagem_formacao[15]\n",
    "\n",
    "df_formacao"
   ]
  },
  {
   "cell_type": "code",
   "execution_count": null,
   "metadata": {},
   "outputs": [],
   "source": [
    "# Calcula a quantidade de clientes de cada ocupação por cluster\n",
    "ocupacao_cluster = df_final2.groupby('Cluster')['Ocupacao'].value_counts(sort=False)\n",
    "ocupacao_cluster"
   ]
  },
  {
   "cell_type": "code",
   "execution_count": null,
   "metadata": {},
   "outputs": [],
   "source": [
    "contagem_ocupacao= ocupacao_cluster.values\n",
    "contagem_ocupacao"
   ]
  },
  {
   "cell_type": "code",
   "execution_count": null,
   "metadata": {},
   "outputs": [],
   "source": [
    "colunas_ocupacao = ['Cluster', 'Desempregado', 'Funcionario', 'Gestao/Autonomo']\n",
    "cluster_ocupacao = [0, 1, 2, 3]\n",
    "df_ocupacao = pd.DataFrame(columns= colunas_ocupacao)\n",
    "df_ocupacao['Cluster'] = cluster_ocupacao"
   ]
  },
  {
   "cell_type": "code",
   "execution_count": null,
   "metadata": {},
   "outputs": [],
   "source": [
    "df_ocupacao.iloc[[0],1] = contagem_ocupacao[0]\n",
    "df_ocupacao.iloc[[0],2] = contagem_ocupacao[1]\n",
    "df_ocupacao.iloc[[0],3] = contagem_ocupacao[2]\n",
    "df_ocupacao.iloc[[1],1] = contagem_ocupacao[3]\n",
    "df_ocupacao.iloc[[1],2] = contagem_ocupacao[4]\n",
    "df_ocupacao.iloc[[1],3] = contagem_ocupacao[5]\n",
    "df_ocupacao.iloc[[2],1] = contagem_ocupacao[6]\n",
    "df_ocupacao.iloc[[2],2] = contagem_ocupacao[7]\n",
    "df_ocupacao.iloc[[2],3] = contagem_ocupacao[8]\n",
    "df_ocupacao.iloc[[3],1] = contagem_ocupacao[9]\n",
    "df_ocupacao.iloc[[3],2] = contagem_ocupacao[10]\n",
    "df_ocupacao.iloc[[3],3] = 0\n",
    "\n",
    "df_ocupacao"
   ]
  },
  {
   "cell_type": "code",
   "execution_count": null,
   "metadata": {},
   "outputs": [],
   "source": [
    "# Calcula a quantidade de clientes de cada tamanho de cidade por cluster\n",
    "cidade_cluster = df_final2.groupby('Cluster')['Tamanho_Cidade'].value_counts(sort=False)\n",
    "cidade_cluster"
   ]
  },
  {
   "cell_type": "code",
   "execution_count": null,
   "metadata": {},
   "outputs": [],
   "source": [
    "contagem_cidade= cidade_cluster.values\n",
    "contagem_cidade"
   ]
  },
  {
   "cell_type": "code",
   "execution_count": null,
   "metadata": {},
   "outputs": [],
   "source": [
    "colunas_cidade = ['Cluster', 'Pequena', 'Media', 'Grande']\n",
    "cluster_cidade = [0, 1, 2, 3]\n",
    "df_cidade = pd.DataFrame(columns= colunas_cidade)\n",
    "df_cidade['Cluster'] = cluster_cidade"
   ]
  },
  {
   "cell_type": "code",
   "execution_count": null,
   "metadata": {},
   "outputs": [],
   "source": [
    "df_cidade.iloc[[0],1] = contagem_cidade[0]\n",
    "df_cidade.iloc[[0],2] = contagem_cidade[1]\n",
    "df_cidade.iloc[[0],3] = contagem_cidade[2]\n",
    "df_cidade.iloc[[1],1] = contagem_cidade[3]\n",
    "df_cidade.iloc[[1],2] = contagem_cidade[4]\n",
    "df_cidade.iloc[[1],3] = contagem_cidade[5]\n",
    "df_cidade.iloc[[2],1] = contagem_cidade[6]\n",
    "df_cidade.iloc[[2],2] = contagem_cidade[7]\n",
    "df_cidade.iloc[[2],3] = contagem_cidade[8]\n",
    "df_cidade.iloc[[3],1] = contagem_cidade[9]\n",
    "df_cidade.iloc[[3],2] = contagem_cidade[10]\n",
    "df_cidade.iloc[[3],3] = contagem_cidade[11]\n",
    "\n",
    "df_cidade"
   ]
  },
  {
   "cell_type": "code",
   "execution_count": null,
   "metadata": {},
   "outputs": [],
   "source": [
    "cluster0= df_final2[df_final2.Cluster.eq(0)]\n",
    "cluster0"
   ]
  }
 ],
 "metadata": {
  "kernelspec": {
   "display_name": "Python 3",
   "language": "python",
   "name": "python3"
  },
  "language_info": {
   "codemirror_mode": {
    "name": "ipython",
    "version": 3
   },
   "file_extension": ".py",
   "mimetype": "text/x-python",
   "name": "python",
   "nbconvert_exporter": "python",
   "pygments_lexer": "ipython3",
   "version": "3.7.6"
  }
 },
 "nbformat": 4,
 "nbformat_minor": 4
}
