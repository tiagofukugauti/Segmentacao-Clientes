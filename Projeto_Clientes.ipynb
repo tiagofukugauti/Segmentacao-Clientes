{
 "cells": [
  {
   "cell_type": "markdown",
   "metadata": {},
   "source": [
    "# PROBLEMA DE NEGÓCIO: SEGMENTAÇÃO DE CLIENTES"
   ]
  },
  {
   "cell_type": "markdown",
   "metadata": {},
   "source": [
    "# INSTALAÇÃO E CARREGAMENTO DOS PACOTES"
   ]
  },
  {
   "cell_type": "code",
   "execution_count": null,
   "metadata": {},
   "outputs": [],
   "source": [
    "# Importando os pacotes \n",
    "import numpy as np\n",
    "import pandas as pd\n",
    "import scipy.stats\n",
    "import matplotlib as mat\n",
    "import matplotlib.pyplot as plt\n",
    "import colorsys\n",
    "import seaborn as sns\n",
    "import sklearn\n",
    "from sklearn.cluster import KMeans\n",
    "from sklearn import metrics\n",
    "from sklearn.metrics import homogeneity_completeness_v_measure\n",
    "from sklearn.preprocessing import MinMaxScaler\n",
    "plt.style.use('seaborn-talk')\n",
    "import warnings\n",
    "warnings.filterwarnings(\"ignore\")\n",
    "%matplotlib inline"
   ]
  },
  {
   "cell_type": "code",
   "execution_count": null,
   "metadata": {},
   "outputs": [],
   "source": [
    "# Carregando os dados\n",
    "df = pd.read_csv('dataset.csv', sep = ',', encoding = 'utf-8')"
   ]
  },
  {
   "cell_type": "markdown",
   "metadata": {},
   "source": [
    "# ANÁLISE EXPLORATÓRIA, LIMPEZA E TRANFORMAÇÃO"
   ]
  },
  {
   "cell_type": "code",
   "execution_count": null,
   "metadata": {},
   "outputs": [],
   "source": [
    "# Visualizando os dados\n",
    "df.head(5)"
   ]
  },
  {
   "cell_type": "code",
   "execution_count": null,
   "metadata": {},
   "outputs": [],
   "source": [
    "# Verificando o tipo dos dados\n",
    "df.dtypes"
   ]
  },
  {
   "cell_type": "code",
   "execution_count": null,
   "metadata": {},
   "outputs": [],
   "source": [
    "# Visualizando as dimensões\n",
    "df.shape"
   ]
  },
  {
   "cell_type": "code",
   "execution_count": null,
   "metadata": {},
   "outputs": [],
   "source": [
    "# Ajustando a coluna ID\n",
    "df.reset_index(inplace=True, drop=False)\n",
    "df.drop(columns=[\"ID\"],inplace=True)"
   ]
  },
  {
   "cell_type": "code",
   "execution_count": null,
   "metadata": {},
   "outputs": [],
   "source": [
    "# Renomeando as colunas\n",
    "colunas = ['Id', 'Sexo', 'Estado_Civil', 'Idade', 'Educacao', 'Renda', 'Ocupacao', 'Tamanho_Cidade']\n",
    "df.columns = colunas\n",
    "df.head()"
   ]
  },
  {
   "cell_type": "code",
   "execution_count": null,
   "metadata": {},
   "outputs": [],
   "source": [
    "# Convertendo as variáveis Id, Sexo, Estado_Civil, Educacao, Ocupacacao e Tamanho_Cidade para categorias\n",
    "df['Id'] = pd.Categorical(df['Id'])\n",
    "df['Sexo'] = pd.Categorical(df['Sexo'])\n",
    "df['Estado_Civil'] = pd.Categorical(df['Estado_Civil'])\n",
    "df['Educacao'] = pd.Categorical(df['Educacao'])\n",
    "df['Ocupacao'] = pd.Categorical(df['Ocupacao'])\n",
    "df['Tamanho_Cidade'] = pd.Categorical(df['Tamanho_Cidade'])\n",
    "\n",
    "# Verificando o tipo dos dados\n",
    "df.dtypes"
   ]
  },
  {
   "cell_type": "code",
   "execution_count": null,
   "metadata": {},
   "outputs": [],
   "source": [
    "# Criando uma cópia do dataframne\n",
    "df1 = df.copy()"
   ]
  },
  {
   "cell_type": "code",
   "execution_count": null,
   "metadata": {},
   "outputs": [],
   "source": [
    "# Resumo\n",
    "print(\"Linhas: \", df1.shape[0])\n",
    "print(\"Colunas: \", df1.shape[1])\n",
    "print(\"\\nVariáveis: \\n\", df1.columns.tolist())\n",
    "print(\"\\nValores Ausentes: \\n\" , df1.isnull().sum())\n",
    "print(\"\\nValores Únicos: \\n\", df1.nunique())"
   ]
  },
  {
   "cell_type": "code",
   "execution_count": null,
   "metadata": {},
   "outputs": [],
   "source": [
    "# Colunas numéricas (quantitativas)\n",
    "colunas_numericas = ['Idade', 'Renda']"
   ]
  },
  {
   "cell_type": "code",
   "execution_count": null,
   "metadata": {},
   "outputs": [],
   "source": [
    "# Colunas categóricas\n",
    "colunas_categoricas = ['Id', 'Sexo', 'Estado_Civil', 'Educacao', 'Ocupacao', 'Tamanho_Cidade']"
   ]
  },
  {
   "cell_type": "code",
   "execution_count": null,
   "metadata": {},
   "outputs": [],
   "source": [
    "# Verifica se o total de variáveis está coberto nos objetos anteriores\n",
    "len(colunas_numericas) + len(colunas_categoricas) == 8"
   ]
  },
  {
   "cell_type": "code",
   "execution_count": null,
   "metadata": {},
   "outputs": [],
   "source": [
    "# Dataframes com os tipos diferentes de variáveis\n",
    "df_num = df1[colunas_numericas]\n",
    "df_cat = df1[colunas_categoricas]"
   ]
  },
  {
   "cell_type": "code",
   "execution_count": null,
   "metadata": {},
   "outputs": [],
   "source": [
    "# Sumário estatístico das variáveis numéricas\n",
    "sumario_num = pd.DataFrame(index = df_num.columns)\n",
    "sumario_num['Tipo de Dado'] = df_num.dtypes.values\n",
    "sumario_num['Registros Não Nulos'] = df_num.count().values\n",
    "sumario_num['Registros Não Zero'] = df_num.astype(bool).sum(axis = 0)\n",
    "sumario_num['% Populado'] = round(sumario_num['Registros Não Nulos'] / df_num.shape[0]*100,2)\n",
    "sumario_num['Valores Únicos'] = df_num.nunique().values\n",
    "sumario_num['Mean'] = round(df_num.mean(),2)\n",
    "sumario_num['Std'] = round(df_num.std(),2)\n",
    "sumario_num['Min'] = round(df_num.min(),2)\n",
    "sumario_num['Max'] = round(df_num.max(),2)\n",
    "sumario_num"
   ]
  },
  {
   "cell_type": "code",
   "execution_count": null,
   "metadata": {},
   "outputs": [],
   "source": [
    "# Sumário estatístico das variáveis categóricas\n",
    "sumario_cat = pd.DataFrame(index = df_cat.columns)\n",
    "sumario_cat['Tipo de Dado'] = df_cat.dtypes.values\n",
    "sumario_cat['Registros Não Nulos'] = df_cat.count().values\n",
    "sumario_cat['% Populado'] = round(sumario_cat['Registros Não Nulos'] / df_cat.shape[0]*100,2)\n",
    "sumario_cat['# Valores Únicos'] = df_cat.nunique().values\n",
    "\n",
    "# Adiciona mais uma coluna com valores mais comuns\n",
    "temp = []\n",
    "for coluna in colunas_categoricas:\n",
    "    temp.append(df_cat[coluna].value_counts().idxmax())\n",
    "sumario_cat['Valores Mais Comuns'] = temp\n",
    "sumario_cat"
   ]
  },
  {
   "cell_type": "markdown",
   "metadata": {},
   "source": [
    "# VISUALIZAÇÃO DAS VARIÁVEIS"
   ]
  },
  {
   "cell_type": "code",
   "execution_count": null,
   "metadata": {},
   "outputs": [],
   "source": [
    "# Variável 2 - Sexo (0= Masculino  1= Feminino)\n",
    "sexo = df1['Sexo'].value_counts().rename_axis('Sexo').reset_index(name = 'Total')\n",
    "sexo"
   ]
  },
  {
   "cell_type": "code",
   "execution_count": null,
   "metadata": {},
   "outputs": [],
   "source": [
    "sns.set_theme(style = 'darkgrid', font='sans-serif', font_scale=1)\n",
    "plt.figure(figsize = (10, 6))\n",
    "fig1 = sns.countplot(x = 'Sexo', data = df1, orient = 'v')\n",
    "plt.title(\"Sexo\")"
   ]
  },
  {
   "cell_type": "code",
   "execution_count": null,
   "metadata": {},
   "outputs": [],
   "source": [
    "# Variável 3 - Estado_Civil (0= Solteiro  1= Não Solteiro [Casado/Divorciado/Separado/Viúvo])\n",
    "estado_civil = df1['Estado_Civil'].value_counts().rename_axis('Estado_Civil').reset_index(name = 'Total')\n",
    "estado_civil"
   ]
  },
  {
   "cell_type": "code",
   "execution_count": null,
   "metadata": {},
   "outputs": [],
   "source": [
    "sns.set_theme(style = 'darkgrid', font='sans-serif', font_scale=1)\n",
    "plt.figure(figsize = (10, 6))\n",
    "fig2 = sns.countplot(x = 'Estado_Civil', data = df1, orient = 'v')\n",
    "plt.title(\"Estado Civil\")"
   ]
  },
  {
   "cell_type": "code",
   "execution_count": null,
   "metadata": {},
   "outputs": [],
   "source": [
    "# Variável 4 - Idade\n",
    "df1['Idade'].describe().round(2)"
   ]
  },
  {
   "cell_type": "code",
   "execution_count": null,
   "metadata": {},
   "outputs": [],
   "source": [
    "sns.set_theme(style = 'darkgrid', font='sans-serif', font_scale=1)\n",
    "plt.figure(figsize = (20, 10))\n",
    "fig3 = sns.boxplot(x = 'Idade',  data = df1, color='lightblue', orient = 'v')\n",
    "plt.title(\"Boxplot Idade\")"
   ]
  },
  {
   "cell_type": "code",
   "execution_count": null,
   "metadata": {},
   "outputs": [],
   "source": [
    "sns.set_theme(style = 'darkgrid', font='sans-serif', font_scale=1)\n",
    "plt.figure(figsize = (20, 10))\n",
    "fig4 = sns.histplot(df1, x = 'Idade', color= 'blue', kde = True, bins = 8)\n",
    "plt.title(\"Idade\")"
   ]
  },
  {
   "cell_type": "code",
   "execution_count": null,
   "metadata": {},
   "outputs": [],
   "source": [
    "# Calculando a Assimetria e Curtose\n",
    "assimetria_idade = scipy.stats.skew(df1['Idade'])\n",
    "curtose_idade = scipy.stats.kurtosis(df1['Idade'])\n",
    "print(assimetria_idade)\n",
    "print(curtose_idade)"
   ]
  },
  {
   "cell_type": "code",
   "execution_count": null,
   "metadata": {},
   "outputs": [],
   "source": [
    "# Variável 6 - Educacao (0= Outro/Desconhecido  1= Ensino Médio  2= Universitário  3= Graduado)\n",
    "educacao = df1['Educacao'].value_counts().rename_axis('Educacao').reset_index(name = 'Total')\n",
    "educacao"
   ]
  },
  {
   "cell_type": "code",
   "execution_count": null,
   "metadata": {},
   "outputs": [],
   "source": [
    "sns.set_theme(style = 'darkgrid', font='sans-serif', font_scale=1)\n",
    "plt.figure(figsize = (10, 6))\n",
    "fig5 = sns.countplot(x = 'Educacao', data = df1, orient = 'v')\n",
    "plt.title(\"Educação\")"
   ]
  },
  {
   "cell_type": "code",
   "execution_count": null,
   "metadata": {},
   "outputs": [],
   "source": [
    "def percentile(n):\n",
    "\n",
    "    def percentile_(x):\n",
    "        return np.percentile(x, n)\n",
    "    percentile_.__name__ = 'percentile_%s' % n\n",
    "    return percentile_\n",
    "\n",
    "resumo_educacao_renda = df1.groupby(['Educacao'], sort=True).agg(count= ('Renda', 'count'), mean=('Renda','mean'),                                                                 \n",
    "desvpad=('Renda','std'),\n",
    "minimo=('Renda','min'),\n",
    "p25=('Renda',percentile(25)),\n",
    "p50=('Renda',percentile(50)),\n",
    "p75=('Renda',percentile(75)),\n",
    "maximo=('Renda','max')).reset_index().round(2)\n",
    "\n",
    "resumo_educacao_renda"
   ]
  },
  {
   "cell_type": "code",
   "execution_count": null,
   "metadata": {},
   "outputs": [],
   "source": [
    "# Criando a coluna com o nome das categorias\n",
    "for item in range(0,len(resumo_educacao_renda['Educacao']),1):\n",
    "   \n",
    "    if resumo_educacao_renda['Educacao'][item] == 0:\n",
    "        resumo_educacao_renda['Educacao_cat']= 'Outro'\n",
    "    elif resumo_educacao_renda['Educacao'][item] == 1:\n",
    "        resumo_educacao_renda['Educacao_cat']= 'Ensino Médio'\n",
    "    elif resumo_educacao_renda['Educacao'][item] == 2:\n",
    "        resumo_educacao_renda['Educacao_cat']= 'Universitário'\n",
    "    elif resumo_educacao_renda['Educacao'][item] == 3:\n",
    "        resumo_educacao_renda['Educacao_cat']= 'Graduado'"
   ]
  },
  {
   "cell_type": "code",
   "execution_count": null,
   "metadata": {},
   "outputs": [],
   "source": [
    "for item in range(0,len(resumo_educacao_renda['Educacao']),1):\n",
    "   \n",
    "    if resumo_educacao_renda['Educacao'][item] == 0:\n",
    "        resumo_educacao_renda['Educacao_cat'][item]= 'Outro'\n",
    "    elif resumo_educacao_renda['Educacao'][item] == 1:\n",
    "        resumo_educacao_renda['Educacao_cat'][item]= 'Ensino Médio'\n",
    "    elif resumo_educacao_renda['Educacao'][item] == 2:\n",
    "        resumo_educacao_renda['Educacao_cat'][item]= 'Universitário'\n",
    "    elif resumo_educacao_renda['Educacao'][item] == 3:\n",
    "        resumo_educacao_renda['Educacao_cat'][item]= 'Graduado'"
   ]
  },
  {
   "cell_type": "code",
   "execution_count": null,
   "metadata": {},
   "outputs": [],
   "source": [
    "sns.set_theme(style = 'darkgrid', font='sans-serif', font_scale=1)\n",
    "plt.figure(figsize = (10, 6))\n",
    "fig6 = sns.barplot(x = resumo_educacao_renda['Educacao_cat'], y = resumo_educacao_renda['mean'], orient = 'v',  palette=\"Blues_d\", )\n",
    "plt.title(\"Média de Renda por Educação\")"
   ]
  },
  {
   "cell_type": "code",
   "execution_count": null,
   "metadata": {},
   "outputs": [],
   "source": [
    "# Variável 7 - Renda\n",
    "df1['Renda'].describe().round(2)"
   ]
  },
  {
   "cell_type": "code",
   "execution_count": null,
   "metadata": {},
   "outputs": [],
   "source": [
    "sns.set_theme(style = 'darkgrid', font='sans-serif', font_scale=1)\n",
    "plt.figure(figsize = (20, 10))\n",
    "fig7 = sns.boxplot(x = 'Renda',  data = df1, color='lightblue', orient = 'v')\n",
    "plt.title(\"Boxplot Renda\")"
   ]
  },
  {
   "cell_type": "code",
   "execution_count": null,
   "metadata": {},
   "outputs": [],
   "source": [
    "sns.set_theme(style = 'darkgrid', font='sans-serif', font_scale=1)\n",
    "plt.figure(figsize = (20, 10))\n",
    "fig8 = sns.histplot(df1, x = 'Renda', color= 'blue', kde = True, bins = 12)\n",
    "plt.title(\"Renda\")"
   ]
  },
  {
   "cell_type": "code",
   "execution_count": null,
   "metadata": {},
   "outputs": [],
   "source": [
    "# Calculando a Assimetria e Curtose\n",
    "assimetria_renda = scipy.stats.skew(df1['Renda'])\n",
    "curtose_renda = scipy.stats.kurtosis(df1['Renda'])\n",
    "print(assimetria_renda)\n",
    "print(curtose_renda)"
   ]
  },
  {
   "cell_type": "code",
   "execution_count": null,
   "metadata": {},
   "outputs": [],
   "source": [
    "# Variável 8 - Ocupacao (0= Desempregado  1= Funcionário  2= Gestão/Autônomo)\n",
    "ocupacao = df1['Ocupacao'].value_counts().rename_axis('Ocupacao').reset_index(name = 'Total')\n",
    "ocupacao"
   ]
  },
  {
   "cell_type": "code",
   "execution_count": null,
   "metadata": {},
   "outputs": [],
   "source": [
    "sns.set_theme(style = 'darkgrid', font='sans-serif', font_scale=1)\n",
    "plt.figure(figsize = (10, 6))\n",
    "fig9 = sns.countplot(x = 'Ocupacao', data = df1, orient = 'v')\n",
    "plt.title(\"Ocupação\")"
   ]
  },
  {
   "cell_type": "code",
   "execution_count": null,
   "metadata": {},
   "outputs": [],
   "source": [
    "def percentile(n):\n",
    "\n",
    "    def percentile_(x):\n",
    "        return np.percentile(x, n)\n",
    "    percentile_.__name__ = 'percentile_%s' % n\n",
    "    return percentile_\n",
    "\n",
    "resumo_ocupacao_renda = df1.groupby(['Ocupacao'], sort=True).agg(count= ('Renda', 'count'), mean=('Renda','mean'),                                                                 \n",
    "desvpad=('Renda','std'),\n",
    "minimo=('Renda','min'),\n",
    "p25=('Renda',percentile(25)),\n",
    "p50=('Renda',percentile(50)),\n",
    "p75=('Renda',percentile(75)),\n",
    "maximo=('Renda','max'),).reset_index().round(2)\n",
    "\n",
    "resumo_ocupacao_renda"
   ]
  },
  {
   "cell_type": "code",
   "execution_count": null,
   "metadata": {},
   "outputs": [],
   "source": [
    "# Criando a coluna com o nome das categorias\n",
    "for item in range(0,len(resumo_ocupacao_renda['Ocupacao']),1):\n",
    "   \n",
    "    if resumo_ocupacao_renda['Ocupacao'][item] == 0:\n",
    "        resumo_ocupacao_renda['Ocupacao_cat']= 'Desempregado'\n",
    "    elif resumo_ocupacao_renda['Ocupacao'][item] == 1:\n",
    "        resumo_ocupacao_renda['Ocupacao_cat']= 'Funcionário'\n",
    "    elif resumo_ocupacao_renda['Ocupacao'][item] == 2:\n",
    "        resumo_ocupacao_renda['Ocupacao_cat']= 'Gestão/Autônomo'"
   ]
  },
  {
   "cell_type": "code",
   "execution_count": null,
   "metadata": {},
   "outputs": [],
   "source": [
    "for item in range(0,len(resumo_ocupacao_renda['Ocupacao']),1):\n",
    "   \n",
    "    if resumo_ocupacao_renda['Ocupacao'][item] == 0:\n",
    "        resumo_ocupacao_renda['Ocupacao_cat'][item]= 'Desempregado'\n",
    "    elif resumo_ocupacao_renda['Ocupacao'][item] == 1:\n",
    "        resumo_ocupacao_renda['Ocupacao_cat'][item]= 'Funcionário'\n",
    "    elif resumo_ocupacao_renda['Ocupacao'][item] == 2:\n",
    "        resumo_ocupacao_renda['Ocupacao_cat'][item]= 'Gestão/Autônomo'"
   ]
  },
  {
   "cell_type": "code",
   "execution_count": null,
   "metadata": {},
   "outputs": [],
   "source": [
    "resumo_ocupacao_renda.head()"
   ]
  },
  {
   "cell_type": "code",
   "execution_count": null,
   "metadata": {},
   "outputs": [],
   "source": [
    "sns.set_theme(style = 'darkgrid', font='sans-serif', font_scale=1)\n",
    "plt.figure(figsize = (10, 6))\n",
    "fig10 = sns.barplot(x = resumo_ocupacao_renda['Ocupacao_cat'], y = resumo_ocupacao_renda['mean'], orient = 'v',palette=\"Blues_d\") \n",
    "plt.title(\"Média de Renda por Ocupação\")"
   ]
  },
  {
   "cell_type": "code",
   "execution_count": null,
   "metadata": {},
   "outputs": [],
   "source": [
    "# Variável 9 - Tamanho_Cidade (0= Pequena  1= Média  2= Grande)\n",
    "tamanho_cidade = df1['Tamanho_Cidade'].value_counts().rename_axis('Tamanho_cidade').reset_index(name = 'Total')\n",
    "tamanho_cidade"
   ]
  },
  {
   "cell_type": "code",
   "execution_count": null,
   "metadata": {},
   "outputs": [],
   "source": [
    "sns.set_theme(style = 'darkgrid', font='sans-serif', font_scale=1)\n",
    "plt.figure(figsize = (10, 6))\n",
    "fig11 = sns.countplot(x = 'Tamanho_Cidade', data = df1, orient = 'v')\n",
    "plt.title(\"Tamanho da Cidade\")"
   ]
  },
  {
   "cell_type": "code",
   "execution_count": null,
   "metadata": {},
   "outputs": [],
   "source": [
    "def percentile(n):\n",
    "\n",
    "    def percentile_(x):\n",
    "        return np.percentile(x, n)\n",
    "    percentile_.__name__ = 'percentile_%s' % n\n",
    "    return percentile_\n",
    "\n",
    "resumo_cidade_renda = df1.groupby(['Tamanho_Cidade'], sort=True).agg(count= ('Renda', 'count'), mean=('Renda','mean'),                                                                 \n",
    "desvpad=('Renda','std'),\n",
    "minimo=('Renda','min'),\n",
    "p25=('Renda',percentile(25)),\n",
    "p50=('Renda',percentile(50)),\n",
    "p75=('Renda',percentile(75)),\n",
    "maximo=('Renda','max'),).reset_index().round(2)\n",
    "\n",
    "resumo_cidade_renda"
   ]
  },
  {
   "cell_type": "code",
   "execution_count": null,
   "metadata": {},
   "outputs": [],
   "source": [
    "# Criando a coluna com o nome das categorias\n",
    "for item in range(0,len(resumo_cidade_renda['Tamanho_Cidade']),1):\n",
    "   \n",
    "    if resumo_cidade_renda['Tamanho_Cidade'][item] == 0:\n",
    "        resumo_cidade_renda['Tamanho_Cidade_cat']= 'Pequena'\n",
    "    elif resumo_cidade_renda['Tamanho_Cidade'][item] == 1:\n",
    "        resumo_cidade_renda['Tamanho_Cidade_cat']= 'Média'\n",
    "    elif resumo_cidade_renda['Tamanho_Cidade'][item] == 2:\n",
    "        resumo_cidade_renda['Tamanho_Cidade_cat']= 'Grande'"
   ]
  },
  {
   "cell_type": "code",
   "execution_count": null,
   "metadata": {},
   "outputs": [],
   "source": [
    "for item in range(0,len(resumo_cidade_renda['Tamanho_Cidade']),1):\n",
    "   \n",
    "    if resumo_cidade_renda['Tamanho_Cidade'][item] == 0:\n",
    "        resumo_cidade_renda['Tamanho_Cidade_cat'][item]= 'Pequena'\n",
    "    elif resumo_cidade_renda['Tamanho_Cidade'][item] == 1:\n",
    "        resumo_cidade_renda['Tamanho_Cidade_cat'][item]= 'Média'\n",
    "    elif resumo_cidade_renda['Tamanho_Cidade'][item] == 2:\n",
    "        resumo_cidade_renda['Tamanho_Cidade_cat'][item]= 'Grande'"
   ]
  },
  {
   "cell_type": "code",
   "execution_count": null,
   "metadata": {},
   "outputs": [],
   "source": [
    "sns.set_theme(style = 'darkgrid', font='sans-serif', font_scale=1)\n",
    "plt.figure(figsize = (10, 6))\n",
    "fig12 = sns.barplot(x = resumo_cidade_renda['Tamanho_Cidade_cat'], y = resumo_cidade_renda['mean'], orient = 'v', palette=\"Blues_d\") \n",
    "plt.title(\"Média de Renda por Tamanho da Cidade\")"
   ]
  },
  {
   "cell_type": "markdown",
   "metadata": {},
   "source": [
    "# MODELAGEM PREDITIVA"
   ]
  },
  {
   "cell_type": "markdown",
   "metadata": {},
   "source": [
    "# K-MEANS"
   ]
  },
  {
   "cell_type": "markdown",
   "metadata": {},
   "source": [
    "# Segmentação 1 - Encontrando o Valor Ideal de Clusters"
   ]
  },
  {
   "cell_type": "code",
   "execution_count": null,
   "metadata": {},
   "outputs": [],
   "source": [
    "# Lista do WCSS\n",
    "wcss_df1 = []"
   ]
  },
  {
   "cell_type": "code",
   "execution_count": null,
   "metadata": {},
   "outputs": [],
   "source": [
    "# Loop para testar os valores de K\n",
    "for n in range(2, 11):\n",
    "    modelo = (KMeans(n_clusters = n,\n",
    "                     init = 'k-means++', \n",
    "                     n_init = 10,\n",
    "                     max_iter = 300, \n",
    "                     tol = 0.0001,  \n",
    "                     random_state = 111, \n",
    "                     algorithm = 'elkan'))\n",
    "    modelo.fit(df1)\n",
    "    wcss_df1.append(modelo.inertia_)"
   ]
  },
  {
   "cell_type": "code",
   "execution_count": null,
   "metadata": {},
   "outputs": [],
   "source": [
    "wcss_df1"
   ]
  },
  {
   "cell_type": "code",
   "execution_count": null,
   "metadata": {},
   "outputs": [],
   "source": [
    "modelo.inertia_"
   ]
  },
  {
   "cell_type": "code",
   "execution_count": null,
   "metadata": {},
   "outputs": [],
   "source": [
    "# Plot\n",
    "plt.figure(1 , figsize = (15 ,6))\n",
    "plt.plot(np.arange(2 , 11) , wcss_df1 , 'o', color = \"red\")\n",
    "plt.plot(np.arange(2 , 11) , wcss_df1 , '-' , alpha = 0.5, color = 'blue')\n",
    "plt.xlabel('Número de Clusters') , plt.ylabel('WCSS')\n",
    "plt.title('WCSS x Número de Clusters')\n",
    "plt.show()"
   ]
  },
  {
   "cell_type": "markdown",
   "metadata": {},
   "source": [
    "# Segmentação 1 - Construindo e Treinando o Modelo"
   ]
  },
  {
   "cell_type": "code",
   "execution_count": null,
   "metadata": {},
   "outputs": [],
   "source": [
    "# Criação do modelo\n",
    "modelo_v1 = KMeans(n_clusters = 4, \n",
    "                     init = 'k-means++', \n",
    "                     n_init = 10, \n",
    "                     max_iter = 300, \n",
    "                     tol = 0.0001,   \n",
    "                     algorithm = 'elkan')"
   ]
  },
  {
   "cell_type": "code",
   "execution_count": null,
   "metadata": {},
   "outputs": [],
   "source": [
    "# Treinamento do modelo\n",
    "modelo_v1.fit(df1)"
   ]
  },
  {
   "cell_type": "code",
   "execution_count": null,
   "metadata": {},
   "outputs": [],
   "source": [
    "# Extração dos labels\n",
    "labels1 = modelo_v1.labels_\n",
    "labels1"
   ]
  },
  {
   "cell_type": "code",
   "execution_count": null,
   "metadata": {},
   "outputs": [],
   "source": [
    "# Extração dos centróides\n",
    "centroids1 = modelo_v1.cluster_centers_\n",
    "centroids1"
   ]
  },
  {
   "cell_type": "code",
   "execution_count": null,
   "metadata": {},
   "outputs": [],
   "source": [
    "# Lista para receber as métricas\n",
    "HCVs = []\n",
    "\n",
    "# Um resultado de cluster satisfaz a homogeneidade se todos os seus clusters contiverem apenas pontos de \n",
    "# dados que são membros de uma única classe.\n",
    "\n",
    "# Um resultado de cluster satisfaz a completude se todos os pontos de dados que são membros \n",
    "# de uma determinada classe são elementos do mesmo cluster.\n",
    "\n",
    "# Ambas as pontuações têm valores positivos entre 0,0 e 1,0, sendo desejáveis valores maiores.\n",
    "\n",
    "# Medida V é a média entre homogeneidade e completude.\n",
    "\n",
    "previsoes = modelo_v1.fit_predict(df1)\n",
    "    \n",
    "# Calculando as métricas\n",
    "HCVs.append(homogeneity_completeness_v_measure(labels1, previsoes))\n",
    "\n",
    "HCVs"
   ]
  },
  {
   "cell_type": "code",
   "execution_count": null,
   "metadata": {},
   "outputs": [],
   "source": [
    "# Inertia = Soma das distâncias das amostras para o seu centro de agrupamento mais próximo.\n",
    "\n",
    "# Lista para as métricas\n",
    "valores_metrica = []\n",
    "\n",
    "valores_metrica.append(modelo_v1.inertia_)\n",
    "valores_metrica"
   ]
  },
  {
   "cell_type": "code",
   "execution_count": null,
   "metadata": {},
   "outputs": [],
   "source": [
    "from sklearn.metrics import silhouette_score\n",
    "# ?silhouette_score"
   ]
  },
  {
   "cell_type": "code",
   "execution_count": null,
   "metadata": {},
   "outputs": [],
   "source": [
    "# Silhouette Score\n",
    "silhouette_score(df1, labels1, metric = 'euclidean')"
   ]
  },
  {
   "cell_type": "code",
   "execution_count": null,
   "metadata": {},
   "outputs": [],
   "source": [
    "# Converte o array para dataframe\n",
    "df_labels = pd.DataFrame(labels1)\n",
    "df_labels"
   ]
  },
  {
   "cell_type": "code",
   "execution_count": null,
   "metadata": {},
   "outputs": [],
   "source": [
    "# Vamos fazer o merge de df2 e os labels (clusters) encontrados pelo modelo\n",
    "df_final = df1.merge(df_labels, left_index = True, right_index = True)\n",
    "df_final.rename(columns = {0:\"Cluster\"}, inplace = True)"
   ]
  },
  {
   "cell_type": "code",
   "execution_count": null,
   "metadata": {},
   "outputs": [],
   "source": [
    "df_final"
   ]
  },
  {
   "cell_type": "code",
   "execution_count": null,
   "metadata": {},
   "outputs": [],
   "source": [
    "cluster = df_final['Cluster'].value_counts().rename_axis('Cluster').reset_index(name = 'Total')\n",
    "cluster"
   ]
  },
  {
   "cell_type": "markdown",
   "metadata": {},
   "source": [
    "# Segmentação 2 - Construindo e Treinando o Modelo"
   ]
  },
  {
   "cell_type": "code",
   "execution_count": null,
   "metadata": {},
   "outputs": [],
   "source": [
    "from sklearn.decomposition import PCA\n",
    "# Aplicando redução de dimensionalidade\n",
    "pca = PCA(n_components = 2).fit_transform(df1)"
   ]
  },
  {
   "cell_type": "code",
   "execution_count": null,
   "metadata": {},
   "outputs": [],
   "source": [
    "# Determinando um range de K\n",
    "k_range = range(1,10)"
   ]
  },
  {
   "cell_type": "code",
   "execution_count": null,
   "metadata": {},
   "outputs": [],
   "source": [
    "# Aplicando o modelo K-Means para cada valor de K (esta célula pode levar bastante tempo para ser executada)\n",
    "k_means_var = [KMeans(n_clusters = k).fit(pca) for k in k_range]"
   ]
  },
  {
   "cell_type": "code",
   "execution_count": null,
   "metadata": {},
   "outputs": [],
   "source": [
    "# Ajustando o centróide do cluster para cada modelo\n",
    "centroids = [X.cluster_centers_ for X in k_means_var]"
   ]
  },
  {
   "cell_type": "code",
   "execution_count": null,
   "metadata": {},
   "outputs": [],
   "source": [
    "# Calculando a distância euclidiana de cada ponto de dado para o centróide\n",
    "from scipy.spatial.distance import cdist, pdist\n",
    "k_euclid = [cdist(pca, cent, 'euclidean') for cent in centroids]\n",
    "dist = [np.min(ke, axis = 1) for ke in k_euclid]"
   ]
  },
  {
   "cell_type": "code",
   "execution_count": null,
   "metadata": {},
   "outputs": [],
   "source": [
    "# Soma dos quadrados das distâncias dentro do cluster\n",
    "soma_quadrados_intra_cluster = [sum(d**2) for d in dist]"
   ]
  },
  {
   "cell_type": "code",
   "execution_count": null,
   "metadata": {},
   "outputs": [],
   "source": [
    "# Soma total dos quadrados\n",
    "soma_total = sum(pdist(pca)**2)/pca.shape[0]"
   ]
  },
  {
   "cell_type": "code",
   "execution_count": null,
   "metadata": {},
   "outputs": [],
   "source": [
    "# Soma dos quadrados entre clusters\n",
    "soma_quadrados_inter_cluster = soma_total - soma_quadrados_intra_cluster"
   ]
  },
  {
   "cell_type": "code",
   "execution_count": null,
   "metadata": {},
   "outputs": [],
   "source": [
    "k_range1 = [1, 2, 3, 4, 5, 6, 7, 8, 9]\n",
    "celbow = pd.DataFrame(soma_quadrados_inter_cluster)\n",
    "celbow['soma_total'] = soma_total\n",
    "celbow['range'] = k_range1\n",
    "colunas2 = ['inter_cluster', 'soma_total', 'range']\n",
    "celbow.columns = colunas2\n",
    "celbow['variancia'] = (celbow['inter_cluster'] / celbow['soma_total']) * 100\n",
    "celbow"
   ]
  },
  {
   "cell_type": "code",
   "execution_count": null,
   "metadata": {},
   "outputs": [],
   "source": [
    "# Curva de Elbow\n",
    "plt.figure(1 , figsize = (15,6))\n",
    "plt.plot(k_range, soma_quadrados_inter_cluster/soma_total * 100, 'o', color= 'red')\n",
    "plt.plot(k_range, soma_quadrados_inter_cluster/soma_total * 100, '-', color= 'blue')\n",
    "plt.grid(True)\n",
    "plt.xlabel('Número de Clusters')\n",
    "plt.ylabel('Percentual de Variância Explicada')\n",
    "plt.title('Variância Explicada x Número de Cluster')"
   ]
  },
  {
   "cell_type": "code",
   "execution_count": null,
   "metadata": {},
   "outputs": [],
   "source": [
    "# Criação do modelo\n",
    "modelo_v2 = KMeans(n_clusters = 4, \n",
    "                     init = 'k-means++', \n",
    "                     n_init = 10, \n",
    "                     max_iter = 300, \n",
    "                     tol = 0.0001,   \n",
    "                     algorithm = 'elkan')"
   ]
  },
  {
   "cell_type": "code",
   "execution_count": null,
   "metadata": {},
   "outputs": [],
   "source": [
    "# Treinamento do modelo\n",
    "modelo_v2.fit(pca)"
   ]
  },
  {
   "cell_type": "code",
   "execution_count": null,
   "metadata": {},
   "outputs": [],
   "source": [
    "# Extração dos labels\n",
    "labels2 = modelo_v2.labels_\n",
    "labels2"
   ]
  },
  {
   "cell_type": "code",
   "execution_count": null,
   "metadata": {},
   "outputs": [],
   "source": [
    "# Lista para receber as métricas\n",
    "HCVs2 = []\n",
    "\n",
    "# Um resultado de cluster satisfaz a homogeneidade se todos os seus clusters contiverem apenas pontos de \n",
    "# dados que são membros de uma única classe.\n",
    "\n",
    "# Um resultado de cluster satisfaz a completude se todos os pontos de dados que são membros \n",
    "# de uma determinada classe são elementos do mesmo cluster.\n",
    "\n",
    "# Ambas as pontuações têm valores positivos entre 0,0 e 1,0, sendo desejáveis valores maiores.\n",
    "\n",
    "# Medida V é a média entre homogeneidade e completude.\n",
    "\n",
    "previsoes2 = modelo_v2.fit_predict(pca)\n",
    "    \n",
    "# Calculando as métricas\n",
    "HCVs2.append(homogeneity_completeness_v_measure(labels2, previsoes2))\n",
    "\n",
    "HCVs2"
   ]
  },
  {
   "cell_type": "code",
   "execution_count": null,
   "metadata": {},
   "outputs": [],
   "source": [
    "# Inertia = Soma das distâncias das amostras para o seu centro de agrupamento mais próximo.\n",
    "\n",
    "# Lista para as métricas\n",
    "valores_metrica2 = []\n",
    "\n",
    "valores_metrica2.append(modelo_v2.inertia_)\n",
    "valores_metrica2"
   ]
  },
  {
   "cell_type": "code",
   "execution_count": null,
   "metadata": {},
   "outputs": [],
   "source": [
    "# Silhouette Score\n",
    "silhouette_score(pca, labels2, metric = 'euclidean')"
   ]
  },
  {
   "cell_type": "code",
   "execution_count": null,
   "metadata": {},
   "outputs": [],
   "source": [
    "# Converte o array para dataframe\n",
    "df_labels2 = pd.DataFrame(labels2)\n",
    "df_labels2"
   ]
  },
  {
   "cell_type": "code",
   "execution_count": null,
   "metadata": {},
   "outputs": [],
   "source": [
    "# Vamos fazer o merge de pca e os labels (clusters) encontrados pelo modelo\n",
    "df_final2 = df1.merge(df_labels2, left_index = True, right_index = True)\n",
    "df_final2.rename(columns = {0:\"Cluster\"}, inplace = True)"
   ]
  },
  {
   "cell_type": "code",
   "execution_count": null,
   "metadata": {},
   "outputs": [],
   "source": [
    "df_final2"
   ]
  },
  {
   "cell_type": "code",
   "execution_count": null,
   "metadata": {},
   "outputs": [],
   "source": [
    "cluster2 = df_final2['Cluster'].value_counts().rename_axis('Cluster').reset_index(name = 'Total')\n",
    "cluster2"
   ]
  },
  {
   "cell_type": "code",
   "execution_count": null,
   "metadata": {},
   "outputs": [],
   "source": [
    "resumo_cluster = df_final2.groupby(['Cluster'], sort=True).agg(Media_Idade=('Idade','mean'), \n",
    "                                                               Media_Renda= ('Renda', 'mean')).reset_index().round(2)                                                             \n",
    "\n",
    "resumo_cluster"
   ]
  },
  {
   "cell_type": "code",
   "execution_count": null,
   "metadata": {},
   "outputs": [],
   "source": [
    "# Calcula a quantidade de clientes de cada genero por cluster\n",
    "sexo_cluster = df_final2.groupby('Cluster')['Sexo'].value_counts()\n",
    "sexo_cluster = pd.DataFrame(sexo_cluster)\n",
    "sexo_cluster"
   ]
  },
  {
   "cell_type": "code",
   "execution_count": null,
   "metadata": {},
   "outputs": [],
   "source": [
    "sexo_cluster.shape"
   ]
  },
  {
   "cell_type": "code",
   "execution_count": null,
   "metadata": {},
   "outputs": [],
   "source": [
    "data2 = pd.melt(sexo_cluster.reset_index(),id_vars=['Cluster', 'Sexo'], value_name='Total')\n",
    "#data2.drop(columns=[\"variable\"],inplace=True)"
   ]
  },
  {
   "cell_type": "code",
   "execution_count": null,
   "metadata": {},
   "outputs": [],
   "source": [
    "data2"
   ]
  },
  {
   "cell_type": "code",
   "execution_count": null,
   "metadata": {},
   "outputs": [],
   "source": [
    "for item in range(0,len(data2['Cluster']),1):\n",
    "   \n",
    "    if data2['Cluster'][item] == 0 and data2['Sexo'][item] == 0:\n",
    "        data2['Masculino']= data2['Total']\n",
    "    elif data2['Cluster'][item] == 0 and data2['Sexo'][item] == 1:\n",
    "        data2['Feminino']= data2['Total']"
   ]
  },
  {
   "cell_type": "code",
   "execution_count": null,
   "metadata": {},
   "outputs": [],
   "source": [
    "data2['Masculino']= 'NAN'\n",
    "data2['Feminino']= 'NAN'"
   ]
  },
  {
   "cell_type": "code",
   "execution_count": null,
   "metadata": {},
   "outputs": [],
   "source": [
    "for index, row in data2.iterrows():\n",
    "    if row['Cluster'] == 0 and row['Sexo']== 0:\n",
    "        data2.loc[index,'Masculino'] =  data2.loc[index,'Total']\n",
    "    elif row['Cluster'] == 1 and row['Sexo']== 0:\n",
    "        data2.loc[index,'Masculino'] =  data2.loc[index,'Total']\n",
    "    elif row['Cluster'] == 2 and row['Sexo']== 0:\n",
    "        data2.loc[index,'Masculino'] =  data2.loc[index,'Total']   \n",
    "    elif row['Cluster'] == 3 and row['Sexo']== 0:\n",
    "        data2.loc[index,'Masculino'] =  data2.loc[index,'Total']\n",
    "    elif row['Cluster'] == 0 and row['Sexo']== 1:\n",
    "        data2.loc[index,'Feminino'] =  data2.loc[index,'Total']\n",
    "    elif row['Cluster'] == 1 and row['Sexo']== 1:\n",
    "        data2.loc[index,'Feminino'] =  data2.loc[index,'Total']\n",
    "    elif row['Cluster'] == 2 and row['Sexo']== 1:\n",
    "        data2.loc[index,'Feminino'] =  data2.loc[index,'Total']   \n",
    "    elif row['Cluster'] == 3 and row['Sexo']== 1:\n",
    "        data2.loc[index,'Feminino'] =  data2.loc[index,'Total']"
   ]
  },
  {
   "cell_type": "code",
   "execution_count": null,
   "metadata": {},
   "outputs": [],
   "source": [
    "data2.drop(columns=[\"Sexo\", \"Total\"],inplace=True)"
   ]
  },
  {
   "cell_type": "code",
   "execution_count": null,
   "metadata": {},
   "outputs": [],
   "source": [
    "data2"
   ]
  },
  {
   "cell_type": "code",
   "execution_count": null,
   "metadata": {},
   "outputs": [],
   "source": [
    "masculino = [472, 318,222,74]\n",
    "feminino = [483, 139, 263, 29]"
   ]
  },
  {
   "cell_type": "code",
   "execution_count": null,
   "metadata": {},
   "outputs": [],
   "source": [
    "resumo_cluster['Maculino'] = pd.Series(masculino).values\n",
    "resumo_cluster['Feminino'] = pd.Series(feminino).values"
   ]
  },
  {
   "cell_type": "code",
   "execution_count": null,
   "metadata": {},
   "outputs": [],
   "source": [
    "# Calcula a quantidade de clientes de cada estado civil por cluster\n",
    "estado_civil_cluster = df_final2.groupby('Cluster')['Estado_Civil'].value_counts()\n",
    "estado_civil_cluster = pd.DataFrame(estado_civil_cluster)\n",
    "estado_civil_cluster"
   ]
  },
  {
   "cell_type": "code",
   "execution_count": null,
   "metadata": {},
   "outputs": [],
   "source": [
    "solteiro = [450, 258, 236, 63]\n",
    "nao_solteiro = [505, 199, 247, 42]"
   ]
  },
  {
   "cell_type": "code",
   "execution_count": null,
   "metadata": {},
   "outputs": [],
   "source": [
    "resumo_cluster['Solteiro'] = pd.Series(solteiro).values\n",
    "resumo_cluster['Nao_Solteiro'] = pd.Series(nao_solteiro).values"
   ]
  },
  {
   "cell_type": "code",
   "execution_count": null,
   "metadata": {},
   "outputs": [],
   "source": [
    "# Calcula a quantidade de clientes de cada nível de formação por cluster\n",
    "educacao_cluster = df_final2.groupby('Cluster')['Educacao'].value_counts()\n",
    "educacao_cluster = pd.DataFrame(educacao_cluster)\n",
    "educacao_cluster"
   ]
  },
  {
   "cell_type": "code",
   "execution_count": null,
   "metadata": {},
   "outputs": [],
   "source": [
    "outro= [125, 53, 93, 16]\n",
    "ensino_medio= [714, 279, 354, 39]\n",
    "universitario= [104, 109, 34, 44]\n",
    "graduado= [12, 16, 4, 4]"
   ]
  },
  {
   "cell_type": "code",
   "execution_count": null,
   "metadata": {},
   "outputs": [],
   "source": [
    "resumo_cluster['Outro'] = pd.Series(outro).values\n",
    "resumo_cluster['Ensino_Medio'] = pd.Series(ensino_medio).values\n",
    "resumo_cluster['Universitario'] = pd.Series(universitario).values\n",
    "resumo_cluster['Graduado'] = pd.Series(graduado).values"
   ]
  },
  {
   "cell_type": "code",
   "execution_count": null,
   "metadata": {},
   "outputs": [],
   "source": [
    "# Calcula a quantidade de clientes de cada ocupação por cluster\n",
    "ocupacao_cluster = df_final2.groupby('Cluster')['Ocupacao'].value_counts()\n",
    "ocupacao_cluster = pd.DataFrame(ocupacao_cluster)\n",
    "ocupacao_cluster"
   ]
  },
  {
   "cell_type": "code",
   "execution_count": null,
   "metadata": {},
   "outputs": [],
   "source": [
    "desempregado= [190, 31, 412, 0]\n",
    "funcionario= [739, 281, 70, 23]\n",
    "gestao_autonomo= [26, 145, 3, 80]"
   ]
  },
  {
   "cell_type": "code",
   "execution_count": null,
   "metadata": {},
   "outputs": [],
   "source": [
    "resumo_cluster['Desempregado'] = pd.Series(desempregado).values\n",
    "resumo_cluster['Funcionario'] = pd.Series(funcionario).values\n",
    "resumo_cluster['Gestao_Autonomo'] = pd.Series(gestao_autonomo).values"
   ]
  },
  {
   "cell_type": "code",
   "execution_count": null,
   "metadata": {},
   "outputs": [],
   "source": [
    "# Calcula a quantidade de clientes de cada tamanho de cidade por cluster\n",
    "cidade_cluster = df_final2.groupby('Cluster')['Tamanho_Cidade'].value_counts()\n",
    "cidade_cluster = pd.DataFrame(cidade_cluster)\n",
    "cidade_cluster"
   ]
  },
  {
   "cell_type": "code",
   "execution_count": null,
   "metadata": {},
   "outputs": [],
   "source": [
    "pequena= [481, 69, 432, 7]\n",
    "media= [266, 212, 26, 40]\n",
    "grande= [208, 176, 27, 56]"
   ]
  },
  {
   "cell_type": "code",
   "execution_count": null,
   "metadata": {},
   "outputs": [],
   "source": [
    "resumo_cluster['Pequena'] = pd.Series(pequena).values\n",
    "resumo_cluster['Media'] = pd.Series(media).values\n",
    "resumo_cluster['Grande'] = pd.Series(grande).values\n",
    "resumo_cluster"
   ]
  },
  {
   "cell_type": "markdown",
   "metadata": {},
   "source": [
    "# COMPARATIVO ENTRE OS CLUSTERS"
   ]
  },
  {
   "cell_type": "code",
   "execution_count": null,
   "metadata": {},
   "outputs": [],
   "source": [
    "# Configurando o tema\n",
    "sns.set_theme(style = 'darkgrid', font='sans-serif', font_scale=1)\n",
    "\n",
    "# Configurando a figura matplotlib\n",
    "f, (ax1, ax2, ax3, ax4, ax5, ax6, ax7, ax8, ax9, ax10, ax11, \n",
    "    ax12, ax13, ax14, ax15, ax16) = plt.subplots(16, 1, figsize=(10, 30), sharex=True)\n",
    "\n",
    "#Construindo os gráficos\n",
    "fig13= sns.barplot(x=resumo_cluster['Cluster'], y= resumo_cluster['Media_Idade'] , palette= \"deep\", ax=ax1)\n",
    "ax1.axhline(0, color=\"k\", clip_on=False)\n",
    "ax1.set_ylabel(\"Média de Idade\")\n",
    "for p in ax1.patches:\n",
    "    ax1.text(p.get_x() + p.get_width()/2., p.get_height(), '%d' % int(p.get_height()), \n",
    "            fontsize=12, color='black', ha='center', va='bottom')\n",
    "\n",
    "sns.barplot(x=resumo_cluster['Cluster'], y= resumo_cluster['Media_Renda'] , palette= \"deep\", ax=ax2)\n",
    "ax2.axhline(0, color=\"k\", clip_on=False)\n",
    "ax2.set_ylabel(\"Média da Renda\")\n",
    "for p in ax2.patches:\n",
    "    ax2.text(p.get_x() + p.get_width()/2., p.get_height(), '%d' % int(p.get_height()), \n",
    "            fontsize=12, color='black', ha='center', va='bottom')\n",
    "\n",
    "\n",
    "sns.barplot(x=resumo_cluster['Cluster'], y= resumo_cluster['Maculino'] , palette= \"deep\", ax=ax3)\n",
    "ax3.axhline(0, color=\"k\", clip_on=False)\n",
    "ax3.set_ylabel(\"Maculino\")\n",
    "for p in ax3.patches:\n",
    "    ax3.text(p.get_x() + p.get_width()/2., p.get_height(), '%d' % int(p.get_height()), \n",
    "            fontsize=12, color='black', ha='center', va='bottom')\n",
    "\n",
    "sns.barplot(x=resumo_cluster['Cluster'], y= resumo_cluster['Feminino'] , palette= \"deep\", ax=ax4)\n",
    "ax4.axhline(0, color=\"k\", clip_on=False)\n",
    "ax4.set_ylabel(\"Feminino\")\n",
    "for p in ax4.patches:\n",
    "    ax4.text(p.get_x() + p.get_width()/2., p.get_height(), '%d' % int(p.get_height()), \n",
    "            fontsize=12, color='black', ha='center', va='bottom')\n",
    "    \n",
    "sns.barplot(x=resumo_cluster['Cluster'], y= resumo_cluster['Solteiro'] , palette= \"deep\", ax=ax5)\n",
    "ax5.axhline(0, color=\"k\", clip_on=False)\n",
    "ax5.set_ylabel(\"Solteiro\")\n",
    "for p in ax5.patches:\n",
    "    ax5.text(p.get_x() + p.get_width()/2., p.get_height(), '%d' % int(p.get_height()), \n",
    "            fontsize=12, color='black', ha='center', va='bottom')\n",
    "    \n",
    "sns.barplot(x=resumo_cluster['Cluster'], y= resumo_cluster['Nao_Solteiro'] , palette= \"deep\", ax=ax6)\n",
    "ax6.axhline(0, color=\"k\", clip_on=False)\n",
    "ax6.set_ylabel(\"Não Solteiro\")\n",
    "for p in ax6.patches:\n",
    "    ax6.text(p.get_x() + p.get_width()/2., p.get_height(), '%d' % int(p.get_height()), \n",
    "            fontsize=12, color='black', ha='center', va='bottom')\n",
    "    \n",
    "sns.barplot(x=resumo_cluster['Cluster'], y= resumo_cluster['Outro'] , palette= \"deep\", ax=ax7)\n",
    "ax7.axhline(0, color=\"k\", clip_on=False)\n",
    "ax7.set_ylabel(\"Outro\")\n",
    "for p in ax7.patches:\n",
    "    ax7.text(p.get_x() + p.get_width()/2., p.get_height(), '%d' % int(p.get_height()), \n",
    "            fontsize=12, color='black', ha='center', va='bottom')\n",
    "    \n",
    "sns.barplot(x=resumo_cluster['Cluster'], y= resumo_cluster['Ensino_Medio'] , palette= \"deep\", ax=ax8)\n",
    "ax8.axhline(0, color=\"k\", clip_on=False)\n",
    "ax8.set_ylabel(\"Ensino Médio\")\n",
    "for p in ax8.patches:\n",
    "    ax8.text(p.get_x() + p.get_width()/2., p.get_height(), '%d' % int(p.get_height()), \n",
    "            fontsize=12, color='black', ha='center', va='bottom')\n",
    "    \n",
    "sns.barplot(x=resumo_cluster['Cluster'], y= resumo_cluster['Universitario'] , palette= \"deep\", ax=ax9)\n",
    "ax9.axhline(0, color=\"k\", clip_on=False)\n",
    "ax9.set_ylabel(\"Universitário\")\n",
    "for p in ax9.patches:\n",
    "    ax9.text(p.get_x() + p.get_width()/2., p.get_height(), '%d' % int(p.get_height()), \n",
    "            fontsize=12, color='black', ha='center', va='bottom')\n",
    "    \n",
    "sns.barplot(x=resumo_cluster['Cluster'], y= resumo_cluster['Graduado'] , palette= \"deep\", ax=ax10)\n",
    "ax10.axhline(0, color=\"k\", clip_on=False)\n",
    "ax10.set_ylabel(\"Graduado\")\n",
    "for p in ax10.patches:\n",
    "    ax10.text(p.get_x() + p.get_width()/2., p.get_height(), '%d' % int(p.get_height()), \n",
    "            fontsize=12, color='black', ha='center', va='bottom')\n",
    "    \n",
    "sns.barplot(x=resumo_cluster['Cluster'], y= resumo_cluster['Desempregado'] , palette= \"deep\", ax=ax11)\n",
    "ax11.axhline(0, color=\"k\", clip_on=False)\n",
    "ax11.set_ylabel(\"Desempregado\")\n",
    "for p in ax11.patches:\n",
    "    ax11.text(p.get_x() + p.get_width()/2., p.get_height(), '%d' % int(p.get_height()), \n",
    "            fontsize=12, color='black', ha='center', va='bottom')\n",
    "    \n",
    "sns.barplot(x=resumo_cluster['Cluster'], y= resumo_cluster['Funcionario'] , palette= \"deep\", ax=ax12)\n",
    "ax12.axhline(0, color=\"k\", clip_on=False)\n",
    "ax12.set_ylabel(\"Funcionario\")\n",
    "for p in ax12.patches:\n",
    "    ax12.text(p.get_x() + p.get_width()/2., p.get_height(), '%d' % int(p.get_height()), \n",
    "            fontsize=12, color='black', ha='center', va='bottom')\n",
    "\n",
    "sns.barplot(x=resumo_cluster['Cluster'], y= resumo_cluster['Gestao_Autonomo'] , palette= \"deep\", ax=ax13)\n",
    "ax13.axhline(0, color=\"k\", clip_on=False)\n",
    "ax13.set_ylabel(\"Gestão ou Autônomo\")\n",
    "for p in ax13.patches:\n",
    "    ax13.text(p.get_x() + p.get_width()/2., p.get_height(), '%d' % int(p.get_height()), \n",
    "            fontsize=12, color='black', ha='center', va='bottom')\n",
    "\n",
    "sns.barplot(x=resumo_cluster['Cluster'], y= resumo_cluster['Pequena'] , palette= \"deep\", ax=ax14)\n",
    "ax14.axhline(0, color=\"k\", clip_on=False)\n",
    "ax14.set_ylabel(\"Cidade Pequena\")\n",
    "for p in ax14.patches:\n",
    "    ax14.text(p.get_x() + p.get_width()/2., p.get_height(), '%d' % int(p.get_height()), \n",
    "            fontsize=12, color='black', ha='center', va='bottom')\n",
    "    \n",
    "sns.barplot(x=resumo_cluster['Cluster'], y= resumo_cluster['Media'] , palette= \"deep\", ax=ax15)\n",
    "ax15.axhline(0, color=\"k\", clip_on=False)\n",
    "ax15.set_ylabel(\"Cidade Média\")\n",
    "for p in ax15.patches:\n",
    "    ax15.text(p.get_x() + p.get_width()/2., p.get_height(), '%d' % int(p.get_height()), \n",
    "            fontsize=12, color='black', ha='center', va='bottom')\n",
    "    \n",
    "sns.barplot(x=resumo_cluster['Cluster'], y= resumo_cluster['Grande'] , palette= \"deep\", ax=ax16)\n",
    "ax16.axhline(0, color=\"k\", clip_on=False)\n",
    "ax16.set_ylabel(\"Cidade Grande\")\n",
    "for p in ax16.patches:\n",
    "    ax16.text(p.get_x() + p.get_width()/2., p.get_height(), '%d' % int(p.get_height()), \n",
    "            fontsize=12, color='black', ha='center', va='bottom')\n",
    "    \n",
    "# Finalizando os gráficos\n",
    "sns.despine(bottom=True)\n",
    "plt.setp(f.axes, yticks=[])\n",
    "plt.tight_layout(h_pad=2)"
   ]
  },
  {
   "cell_type": "markdown",
   "metadata": {},
   "source": [
    "# RESUMO POR CLUSTER"
   ]
  },
  {
   "cell_type": "code",
   "execution_count": null,
   "metadata": {},
   "outputs": [],
   "source": [
    "resumo_cluster"
   ]
  },
  {
   "cell_type": "markdown",
   "metadata": {},
   "source": [
    "# Cluster 0"
   ]
  },
  {
   "cell_type": "code",
   "execution_count": null,
   "metadata": {},
   "outputs": [],
   "source": [
    "# Cluster 0\n",
    "\n",
    "labels = 'Masculino', 'Feminino'\n",
    "sizes = [472, 483]\n",
    "explode = (0, 0.08)\n",
    "\n",
    "fig1, ax1 = plt.subplots()\n",
    "ax1.pie(sizes, explode=explode, labels=labels, autopct='%1.1f%%',\n",
    "        shadow=True, startangle=90)\n",
    "ax1.axis('equal') \n",
    "\n",
    "plt.show()"
   ]
  },
  {
   "cell_type": "code",
   "execution_count": null,
   "metadata": {},
   "outputs": [],
   "source": [
    "labels = 'Solteiro', 'Não Solterio'\n",
    "sizes = [451, 504]\n",
    "explode = (0, 0.08)\n",
    "\n",
    "fig1, ax1 = plt.subplots()\n",
    "ax1.pie(sizes, explode=explode, labels=labels, autopct='%1.1f%%',\n",
    "        shadow=True, startangle=90)\n",
    "ax1.axis('equal') \n",
    "\n",
    "plt.show()"
   ]
  },
  {
   "cell_type": "code",
   "execution_count": null,
   "metadata": {},
   "outputs": [],
   "source": [
    "labels = 'Outro', 'Ensino Médio', 'Graduado', 'Universitário'\n",
    "sizes = [125, 714, 12, 104]\n",
    "explode = (0, 0.08, 0, 0)\n",
    "\n",
    "fig1, ax1 = plt.subplots()\n",
    "ax1.pie(sizes, explode=explode, labels=labels, autopct='%1.1f%%',\n",
    "        shadow=True, startangle=90)\n",
    "ax1.axis('equal') \n",
    "\n",
    "plt.show()"
   ]
  },
  {
   "cell_type": "code",
   "execution_count": null,
   "metadata": {},
   "outputs": [],
   "source": [
    "labels = 'Desempregado', 'Funcionário', 'Gestão ou Autônomo'\n",
    "sizes = [190, 739, 26]\n",
    "explode = (0, 0.08, 0)\n",
    "\n",
    "fig1, ax1 = plt.subplots()\n",
    "ax1.pie(sizes, explode=explode, labels=labels, autopct='%1.1f%%',\n",
    "        shadow=True, startangle=80)\n",
    "ax1.axis('equal') \n",
    "\n",
    "plt.show()"
   ]
  },
  {
   "cell_type": "code",
   "execution_count": null,
   "metadata": {},
   "outputs": [],
   "source": [
    "labels = 'Média', 'Pequena', 'Grande'\n",
    "sizes = [266, 481, 208]\n",
    "explode = (0, 0.08, 0)\n",
    "\n",
    "fig1, ax1 = plt.subplots()\n",
    "ax1.pie(sizes, explode=explode, labels=labels, autopct='%1.1f%%',\n",
    "        shadow=True, startangle=80)\n",
    "ax1.axis('equal') \n",
    "\n",
    "plt.show()"
   ]
  },
  {
   "cell_type": "markdown",
   "metadata": {},
   "source": [
    "# Cluster 1"
   ]
  },
  {
   "cell_type": "code",
   "execution_count": null,
   "metadata": {},
   "outputs": [],
   "source": [
    "# Cluster 1\n",
    "\n",
    "labels = 'Feminino', 'Masculino'\n",
    "sizes = [139, 318]\n",
    "explode = (0, 0.08)\n",
    "\n",
    "fig1, ax1 = plt.subplots()\n",
    "ax1.pie(sizes, explode=explode, labels=labels, autopct='%1.1f%%',\n",
    "        shadow=True, startangle=90)\n",
    "ax1.axis('equal') \n",
    "\n",
    "plt.show()"
   ]
  },
  {
   "cell_type": "code",
   "execution_count": null,
   "metadata": {},
   "outputs": [],
   "source": [
    "labels = 'Não Solteiro', 'Solterio'\n",
    "sizes = [199, 258]\n",
    "explode = (0, 0.08)\n",
    "\n",
    "fig1, ax1 = plt.subplots()\n",
    "ax1.pie(sizes, explode=explode, labels=labels, autopct='%1.1f%%',\n",
    "        shadow=True, startangle=90)\n",
    "ax1.axis('equal') \n",
    "\n",
    "plt.show()"
   ]
  },
  {
   "cell_type": "code",
   "execution_count": null,
   "metadata": {},
   "outputs": [],
   "source": [
    "labels = 'Outro', 'Ensino Médio', 'Graduado', 'Universitário'\n",
    "sizes = [53, 279, 16, 109]\n",
    "explode = (0, 0.08, 0, 0)\n",
    "\n",
    "fig1, ax1 = plt.subplots()\n",
    "ax1.pie(sizes, explode=explode, labels=labels, autopct='%1.1f%%',\n",
    "        shadow=True, startangle=90)\n",
    "ax1.axis('equal') \n",
    "\n",
    "plt.show()"
   ]
  },
  {
   "cell_type": "code",
   "execution_count": null,
   "metadata": {},
   "outputs": [],
   "source": [
    "labels = 'Desempregado', 'Funcionário', 'Gestão ou Autônomo'\n",
    "sizes = [31, 281, 145]\n",
    "explode = (0, 0.08, 0)\n",
    "\n",
    "fig1, ax1 = plt.subplots()\n",
    "ax1.pie(sizes, explode=explode, labels=labels, autopct='%1.1f%%',\n",
    "        shadow=True, startangle=80)\n",
    "ax1.axis('equal') \n",
    "\n",
    "plt.show()"
   ]
  },
  {
   "cell_type": "code",
   "execution_count": null,
   "metadata": {},
   "outputs": [],
   "source": [
    "labels = 'Média', 'Pequena', 'Grande'\n",
    "sizes = [69, 212, 176]\n",
    "explode = (0, 0.08, 0)\n",
    "\n",
    "fig1, ax1 = plt.subplots()\n",
    "ax1.pie(sizes, explode=explode, labels=labels, autopct='%1.1f%%',\n",
    "        shadow=True, startangle=80)\n",
    "ax1.axis('equal') \n",
    "\n",
    "plt.show()"
   ]
  },
  {
   "cell_type": "markdown",
   "metadata": {},
   "source": [
    "# Cluster 2"
   ]
  },
  {
   "cell_type": "code",
   "execution_count": null,
   "metadata": {},
   "outputs": [],
   "source": [
    "# Cluster 2\n",
    "\n",
    "labels = 'Masculino', 'Feminino'\n",
    "sizes = [222, 263]\n",
    "explode = (0, 0.08)\n",
    "\n",
    "fig1, ax1 = plt.subplots()\n",
    "ax1.pie(sizes, explode=explode, labels=labels, autopct='%1.1f%%',\n",
    "        shadow=True, startangle=90)\n",
    "ax1.axis('equal') \n",
    "\n",
    "plt.show()"
   ]
  },
  {
   "cell_type": "code",
   "execution_count": null,
   "metadata": {},
   "outputs": [],
   "source": [
    "labels = 'Solteiro', 'Não Solterio'\n",
    "sizes = [236, 249]\n",
    "explode = (0, 0.08)\n",
    "\n",
    "fig1, ax1 = plt.subplots()\n",
    "ax1.pie(sizes, explode=explode, labels=labels, autopct='%1.1f%%',\n",
    "        shadow=True, startangle=90)\n",
    "ax1.axis('equal') \n",
    "\n",
    "plt.show()"
   ]
  },
  {
   "cell_type": "code",
   "execution_count": null,
   "metadata": {},
   "outputs": [],
   "source": [
    "labels = 'Outro', 'Ensino Médio', 'Graduado', 'Universitário'\n",
    "sizes = [93, 354, 4, 34]\n",
    "explode = (0, 0.08, 0, 0)\n",
    "\n",
    "fig1, ax1 = plt.subplots()\n",
    "ax1.pie(sizes, explode=explode, labels=labels, autopct='%1.1f%%',\n",
    "        shadow=True, startangle=90)\n",
    "ax1.axis('equal') \n",
    "\n",
    "plt.show()"
   ]
  },
  {
   "cell_type": "code",
   "execution_count": null,
   "metadata": {},
   "outputs": [],
   "source": [
    "labels = 'Funcionário', 'Desempregado', 'Gestão ou Autônomo'\n",
    "sizes = [70, 412, 3]\n",
    "explode = (0, 0.08, 0)\n",
    "\n",
    "fig1, ax1 = plt.subplots()\n",
    "ax1.pie(sizes, explode=explode, labels=labels, autopct='%1.1f%%',\n",
    "        shadow=True, startangle=80)\n",
    "ax1.axis('equal') \n",
    "\n",
    "plt.show()"
   ]
  },
  {
   "cell_type": "code",
   "execution_count": null,
   "metadata": {},
   "outputs": [],
   "source": [
    "labels = 'Média', 'Pequena', 'Grande'\n",
    "sizes = [26, 432, 27]\n",
    "explode = (0, 0.08, 0)\n",
    "\n",
    "fig1, ax1 = plt.subplots()\n",
    "ax1.pie(sizes, explode=explode, labels=labels, autopct='%1.1f%%',\n",
    "        shadow=True, startangle=80)\n",
    "ax1.axis('equal') \n",
    "\n",
    "plt.show()"
   ]
  },
  {
   "cell_type": "markdown",
   "metadata": {},
   "source": [
    "# Cluster 3"
   ]
  },
  {
   "cell_type": "code",
   "execution_count": null,
   "metadata": {},
   "outputs": [],
   "source": [
    "resumo_cluster"
   ]
  },
  {
   "cell_type": "code",
   "execution_count": null,
   "metadata": {},
   "outputs": [],
   "source": [
    "# Cluster 3\n",
    "\n",
    "labels = 'Feminino', 'Masculino'\n",
    "sizes = [29, 74]\n",
    "explode = (0, 0.08)\n",
    "\n",
    "fig1, ax1 = plt.subplots()\n",
    "ax1.pie(sizes, explode=explode, labels=labels, autopct='%1.1f%%',\n",
    "        shadow=True, startangle=90)\n",
    "ax1.axis('equal') \n",
    "\n",
    "plt.show()"
   ]
  },
  {
   "cell_type": "code",
   "execution_count": null,
   "metadata": {},
   "outputs": [],
   "source": [
    "labels = 'Não Solteiro', 'Solterio'\n",
    "sizes = [41, 62]\n",
    "explode = (0, 0.08)\n",
    "\n",
    "fig1, ax1 = plt.subplots()\n",
    "ax1.pie(sizes, explode=explode, labels=labels, autopct='%1.1f%%',\n",
    "        shadow=True, startangle=90)\n",
    "ax1.axis('equal') \n",
    "\n",
    "plt.show()"
   ]
  },
  {
   "cell_type": "code",
   "execution_count": null,
   "metadata": {},
   "outputs": [],
   "source": [
    "labels = 'Outro', 'Universitário', 'Graduado', 'Ensino Médio'\n",
    "sizes = [16, 44, 4, 39]\n",
    "explode = (0, 0.08, 0, 0)\n",
    "\n",
    "fig1, ax1 = plt.subplots()\n",
    "ax1.pie(sizes, explode=explode, labels=labels, autopct='%1.1f%%',\n",
    "        shadow=True, startangle=90)\n",
    "ax1.axis('equal') \n",
    "\n",
    "plt.show()"
   ]
  },
  {
   "cell_type": "code",
   "execution_count": null,
   "metadata": {},
   "outputs": [],
   "source": [
    "labels = 'Funcionário', 'Gestão ou Autônomo', 'Desempregado'\n",
    "sizes = [23, 80, 0]\n",
    "explode = (0, 0.08, 0)\n",
    "\n",
    "fig1, ax1 = plt.subplots()\n",
    "ax1.pie(sizes, explode=explode, labels=labels, autopct='%1.1f%%',\n",
    "        shadow=True, startangle=80)\n",
    "ax1.axis('equal') \n",
    "\n",
    "plt.show()"
   ]
  },
  {
   "cell_type": "code",
   "execution_count": null,
   "metadata": {},
   "outputs": [],
   "source": [
    "labels = 'Pequena', 'Grande', 'Média'\n",
    "sizes = [7, 56, 40]\n",
    "explode = (0, 0.08, 0)\n",
    "\n",
    "fig1, ax1 = plt.subplots()\n",
    "ax1.pie(sizes, explode=explode, labels=labels, autopct='%1.1f%%',\n",
    "        shadow=True, startangle=80)\n",
    "ax1.axis('equal') \n",
    "\n",
    "plt.show()"
   ]
  }
 ],
 "metadata": {
  "kernelspec": {
   "display_name": "Python 3",
   "language": "python",
   "name": "python3"
  },
  "language_info": {
   "codemirror_mode": {
    "name": "ipython",
    "version": 3
   },
   "file_extension": ".py",
   "mimetype": "text/x-python",
   "name": "python",
   "nbconvert_exporter": "python",
   "pygments_lexer": "ipython3",
   "version": "3.7.6"
  }
 },
 "nbformat": 4,
 "nbformat_minor": 4
}
